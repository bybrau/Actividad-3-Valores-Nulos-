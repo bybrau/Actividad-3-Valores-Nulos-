{
 "cells": [
  {
   "cell_type": "code",
   "execution_count": 2,
   "metadata": {},
   "outputs": [
    {
     "data": {
      "text/plain": [
       "np.int64(28632)"
      ]
     },
     "execution_count": 2,
     "metadata": {},
     "output_type": "execute_result"
    }
   ],
   "source": [
    "import pandas as pd\n",
    "import numpy as np\n",
    "import matplotlib.pyplot as plt\n",
    "\n",
    "listings = pd.read_csv(\"listings1.csv\")\n",
    "listings1 = listings.copy()\n",
    "valoresNulos = listings1.isnull().sum()\n",
    "valoresNulos = listings1.isnull().sum().sum()\n",
    "valoresNulos\n"
   ]
  },
  {
   "cell_type": "code",
   "execution_count": null,
   "metadata": {},
   "outputs": [
    {
     "data": {
      "text/plain": [
       "np.int64(23790)"
      ]
     },
     "execution_count": 11,
     "metadata": {},
     "output_type": "execute_result"
    }
   ],
   "source": [
    "####################################### 1 ###############################\n",
    "def sustitucion_mediana(listings1):\n",
    "    #separar las numericas de las str en el dataframe\n",
    "    cuantitativas_con_nulos = listings1.select_dtypes(include=[\"float64\", \"int64\", \"float\", \"int\"])\n",
    "    #separar columnas cualitativas\n",
    "    cualitativas = listings1.select_dtypes (include= [\"object\", \"datetime\", \"category\"] )\n",
    "    #sustitur valores nulos con\n",
    "    cuantitivas = cuantitativas_con_nulos.fillna(round(cuantitativas_con_nulos.median(), 1))\n",
    "    #unir data frame\n",
    "    Datos_sin_nulos = pd.concat([cuantitivas, cualitativas], axis=1)\n",
    "    return (Datos_sin_nulos)\n",
    "\n"
   ]
  },
  {
   "cell_type": "code",
   "execution_count": null,
   "metadata": {},
   "outputs": [],
   "source": [
    "########################################### 1 #############################\n",
    "listaSinInt = sustitucion_mediana(listings1)\n",
    "#listaSinInt\n",
    "valoresNulos2 = listaSinInt.isnull().sum().sum()\n",
    "valoresNulos2"
   ]
  },
  {
   "cell_type": "code",
   "execution_count": 14,
   "metadata": {},
   "outputs": [],
   "source": [
    "######################################### 2 ###############################\n",
    "def sustitucion_text(listings1):\n",
    "    #separar las numericas de las str en el dataframe\n",
    "    cuantitativas_con_nulos = listings1.select_dtypes(include=[\"float64\", \"int64\", \"float\", \"int\"])\n",
    "    #separar columnas cualitativas\n",
    "    cualitativas_con_nulos = listings1.select_dtypes (include= [\"object\", \"datetime\", \"category\"] )\n",
    "    #sustitur valores nulos con\n",
    "    cualitativas = cualitativas_con_nulos.fillna(\"No data\")\n",
    "    #unir data frame\n",
    "    Datos_sin_nulos1 = pd.concat([cualitativas, cuantitativas_con_nulos], axis=1)\n",
    "    return (Datos_sin_nulos1)"
   ]
  },
  {
   "cell_type": "code",
   "execution_count": 26,
   "metadata": {},
   "outputs": [
    {
     "data": {
      "text/plain": [
       "np.int64(12892)"
      ]
     },
     "execution_count": 26,
     "metadata": {},
     "output_type": "execute_result"
    }
   ],
   "source": [
    "########################################### 2 #############################\n",
    "listaSinInt2 = sustitucion_text(listings1)\n",
    "#listaSinInt2\n",
    "valoresNulos3 = listaSinInt2.isnull().sum().sum()\n",
    "valoresNulos3\n",
    "#listaSinInt2\n"
   ]
  },
  {
   "cell_type": "code",
   "execution_count": 22,
   "metadata": {},
   "outputs": [],
   "source": [
    "######################################### 3 ###############################\n",
    "def sustitucion_bfill(listings1):\n",
    "    #separar las numericas de las str en el dataframe\n",
    "    cuantitativas_con_nulos = listings1.select_dtypes(include=[\"float64\", \"float\"])\n",
    "    #separar columnas cualitativas\n",
    "    cualitativas = listings1.select_dtypes (include= [\"object\", \"datetime\", \"category\"] )\n",
    "    #sustitur valores nulos con\n",
    "    cuantitivas = cuantitativas_con_nulos.fillna(method= \"bfill\")\n",
    "    #unir data frame\n",
    "    Datos_sin_nulos = pd.concat([cuantitivas, cualitativas], axis=1)\n",
    "    return (Datos_sin_nulos)"
   ]
  },
  {
   "cell_type": "code",
   "execution_count": 28,
   "metadata": {},
   "outputs": [
    {
     "name": "stderr",
     "output_type": "stream",
     "text": [
      "C:\\Users\\brau1\\AppData\\Local\\Temp\\ipykernel_18968\\3720534691.py:8: FutureWarning: DataFrame.fillna with 'method' is deprecated and will raise in a future version. Use obj.ffill() or obj.bfill() instead.\n",
      "  cuantitivas = cuantitativas_con_nulos.fillna(method= \"bfill\")\n"
     ]
    },
    {
     "data": {
      "text/plain": [
       "np.int64(23902)"
      ]
     },
     "execution_count": 28,
     "metadata": {},
     "output_type": "execute_result"
    }
   ],
   "source": [
    "########################################### 3 #############################\n",
    "listaSinInt3 = sustitucion_bfill(listings1)\n",
    "#listaSinInt2\n",
    "valoresNulos4 = listaSinInt3.isnull().sum().sum()\n",
    "valoresNulos4\n",
    "#listaSinInt3"
   ]
  },
  {
   "cell_type": "code",
   "execution_count": 30,
   "metadata": {},
   "outputs": [],
   "source": [
    "######################################### 4 ###############################\n",
    "def sustitucion_ffill(listings1):\n",
    "    #separar las numericas de las str en el dataframe\n",
    "    cuantitativas_con_nulos = listings1.select_dtypes(include=[\"float64\", \"int64\", \"float\", \"int\"])\n",
    "    #separar columnas cualitativas\n",
    "    cualitativas_con_nulos = listings1.select_dtypes (include= [\"object\", \"datetime\", \"category\"] )\n",
    "    #sustitur valores nulos con\n",
    "    cualitativas = cualitativas_con_nulos.fillna(method= \"ffill\")\n",
    "    #unir data frame\n",
    "    Datos_sin_nulos1 = pd.concat([cualitativas, cuantitativas_con_nulos], axis=1)\n",
    "    return (Datos_sin_nulos1)"
   ]
  },
  {
   "cell_type": "code",
   "execution_count": 31,
   "metadata": {},
   "outputs": [
    {
     "name": "stderr",
     "output_type": "stream",
     "text": [
      "C:\\Users\\brau1\\AppData\\Local\\Temp\\ipykernel_18968\\1321721763.py:8: FutureWarning: DataFrame.fillna with 'method' is deprecated and will raise in a future version. Use obj.ffill() or obj.bfill() instead.\n",
      "  cualitativas = cualitativas_con_nulos.fillna(method= \"ffill\")\n"
     ]
    },
    {
     "data": {
      "text/plain": [
       "np.int64(12896)"
      ]
     },
     "execution_count": 31,
     "metadata": {},
     "output_type": "execute_result"
    }
   ],
   "source": [
    "########################################### 4 #############################\n",
    "listaSinInt4 = sustitucion_ffill(listings1)\n",
    "#listaSinInt2\n",
    "valoresNulos5 = listaSinInt4.isnull().sum().sum()\n",
    "valoresNulos5\n",
    "#listaSinInt3"
   ]
  },
  {
   "cell_type": "code",
   "execution_count": 32,
   "metadata": {},
   "outputs": [],
   "source": [
    "listaSinInt4.to_csv(\"listings_sinNulos2.csv\")"
   ]
  }
 ],
 "metadata": {
  "kernelspec": {
   "display_name": "Python 3",
   "language": "python",
   "name": "python3"
  },
  "language_info": {
   "codemirror_mode": {
    "name": "ipython",
    "version": 3
   },
   "file_extension": ".py",
   "mimetype": "text/x-python",
   "name": "python",
   "nbconvert_exporter": "python",
   "pygments_lexer": "ipython3",
   "version": "3.13.2"
  }
 },
 "nbformat": 4,
 "nbformat_minor": 2
}
