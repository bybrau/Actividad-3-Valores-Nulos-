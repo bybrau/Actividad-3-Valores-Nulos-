{
 "cells": [
  {
   "cell_type": "code",
   "execution_count": 3,
   "metadata": {},
   "outputs": [
    {
     "data": {
      "text/plain": [
       "id                                                 0\n",
       "listing_url                                        0\n",
       "scrape_id                                          0\n",
       "last_scraped                                       0\n",
       "source                                             0\n",
       "name                                               0\n",
       "description                                       46\n",
       "neighborhood_overview                           2242\n",
       "picture_url                                        0\n",
       "host_id                                            0\n",
       "host_url                                           0\n",
       "host_name                                          0\n",
       "host_since                                         0\n",
       "host_location                                   1121\n",
       "host_about                                      2377\n",
       "host_response_time                               960\n",
       "host_response_rate                               960\n",
       "host_acceptance_rate                             346\n",
       "host_is_superhost                                107\n",
       "host_thumbnail_url                                 0\n",
       "host_picture_url                                   0\n",
       "host_neighbourhood                              3802\n",
       "host_listings_count                                0\n",
       "host_total_listings_count                          0\n",
       "host_verifications                                 0\n",
       "host_has_profile_pic                               0\n",
       "host_identity_verified                             0\n",
       "neighbourhood                                   2242\n",
       "neighbourhood_cleansed                             0\n",
       "neighbourhood_group_cleansed                       0\n",
       "latitude                                           0\n",
       "longitude                                          0\n",
       "property_type                                      0\n",
       "room_type                                          0\n",
       "accommodates                                       0\n",
       "bathrooms                                        640\n",
       "bathrooms_text                                     2\n",
       "bedrooms                                         128\n",
       "beds                                             642\n",
       "amenities                                          0\n",
       "price                                            640\n",
       "minimum_nights                                     0\n",
       "maximum_nights                                     0\n",
       "minimum_minimum_nights                             0\n",
       "maximum_minimum_nights                             0\n",
       "minimum_maximum_nights                             0\n",
       "maximum_maximum_nights                             0\n",
       "minimum_nights_avg_ntm                             0\n",
       "maximum_nights_avg_ntm                             0\n",
       "calendar_updated                                4025\n",
       "has_availability                                  37\n",
       "availability_30                                    0\n",
       "availability_60                                    0\n",
       "availability_90                                    0\n",
       "availability_365                                   0\n",
       "calendar_last_scraped                              0\n",
       "number_of_reviews                                  0\n",
       "number_of_reviews_ltm                              0\n",
       "number_of_reviews_l30d                             0\n",
       "first_review                                     429\n",
       "last_review                                      429\n",
       "review_scores_rating                             429\n",
       "review_scores_accuracy                           429\n",
       "review_scores_cleanliness                        429\n",
       "review_scores_checkin                            429\n",
       "review_scores_communication                      429\n",
       "review_scores_location                           429\n",
       "review_scores_value                              429\n",
       "license                                         4025\n",
       "instant_bookable                                   0\n",
       "calculated_host_listings_count                     0\n",
       "calculated_host_listings_count_entire_homes        0\n",
       "calculated_host_listings_count_private_rooms       0\n",
       "calculated_host_listings_count_shared_rooms        0\n",
       "reviews_per_month                                429\n",
       "dtype: int64"
      ]
     },
     "execution_count": 3,
     "metadata": {},
     "output_type": "execute_result"
    }
   ],
   "source": [
    "import pandas as pd\n",
    "import numpy as np\n",
    "import matplotlib.pyplot as plt\n",
    "\n",
    "listings = pd.read_csv(\"listings1.csv\")\n",
    "listings1 = listings.copy()\n",
    "valoresNulos = listings1.isnull().sum()\n",
    "valoresNulos\n",
    "\n"
   ]
  },
  {
   "cell_type": "code",
   "execution_count": 4,
   "metadata": {},
   "outputs": [
    {
     "data": {
      "text/plain": [
       "np.int64(28632)"
      ]
     },
     "execution_count": 4,
     "metadata": {},
     "output_type": "execute_result"
    }
   ],
   "source": [
    "valoresNulos = listings1.isnull().sum().sum()\n",
    "valoresNulos"
   ]
  },
  {
   "cell_type": "code",
   "execution_count": 7,
   "metadata": {},
   "outputs": [],
   "source": [
    "listings1[\"description\"] = listings1[\"description\"].fillna(\"No description\")\n",
    "listings1[\"neighborhood_overview\"] = listings1[\"neighborhood_overview\"].fillna(\"No overview\")\n",
    "listings1[\"host_location\"] = listings1[\"host_location\"].fillna(\"No location\")\n",
    "listings1[\"host_about\"] = listings1[\"host_about\"].fillna(\"No about\")\n",
    "listings1[\"host_response_time\"] = listings1[\"host_response_time\"].fillna(\"No data\")\n",
    "listings1[\"host_response_rate\"] = listings1[\"host_response_rate\"].fillna(\"No data\")\n",
    "listings1[\"host_acceptance_rate\"] = listings1[\"host_acceptance_rate\"].fillna(\"No data\")\n",
    "listings1[\"host_is_superhost\"] = listings1[\"host_is_superhost\"].fillna(\"No data\")\n",
    "listings1[\"host_neighbourhood\"] = listings1[\"host_neighbourhood\"].fillna(\"No data\")\n",
    "listings1[\"neighbourhood\"] = listings1[\"neighbourhood\"].fillna(\"No data\")\n",
    "listings1[\"bathrooms\"] = listings1[\"bathrooms\"].fillna(\"No data\")\n",
    "listings1[\"bathrooms_text\"] = listings1[\"bathrooms_text\"].fillna(\"No data\")\n",
    "listings1[\"bedrooms\"] = listings1[\"bedrooms\"].fillna(\"No data\")\n",
    "listings1[\"beds\"] = listings1[\"beds\"].fillna(\"No data\")\n",
    "listings1[\"price\"] = listings1[\"price\"].fillna(\"No data\")\n",
    "listings1[\"calendar_updated\"] = listings1[\"calendar_updated\"].fillna(\"No data\")\n",
    "listings1[\"has_availability\"] = listings1[\"has_availability\"].fillna(\"No data\")\n",
    "listings1[\"first_review\"] = listings1[\"first_review\"].fillna(\"No data\")\n",
    "listings1[\"last_review\"] = listings1[\"last_review\"].fillna(\"No data\")\n",
    "listings1[\"review_scores_rating\"] = listings1[\"review_scores_rating\"].fillna(\"No data\")\n",
    "listings1[\"review_scores_accuracy\"] = listings1[\"review_scores_accuracy\"].fillna(\"No data\")\n",
    "listings1[\"review_scores_cleanliness\"] = listings1[\"review_scores_cleanliness\"].fillna(\"No data\")\n",
    "listings1[\"review_scores_checkin\"] = listings1[\"review_scores_checkin\"].fillna(\"No data\")\n",
    "listings1[\"review_scores_communication\"] = listings1[\"review_scores_communication\"].fillna(\"No data\")\n",
    "listings1[\"review_scores_location\"] = listings1[\"review_scores_location\"].fillna(\"No data\")\n",
    "listings1[\"review_scores_value\"] = listings1[\"review_scores_value\"].fillna(\"No data\")\n",
    "listings1[\"license\"] = listings1[\"license\"].fillna(\"No data\")\n",
    "listings1[\"reviews_per_month\"] = listings1[\"reviews_per_month\"].fillna(\"No data\")\n"
   ]
  },
  {
   "cell_type": "code",
   "execution_count": 8,
   "metadata": {},
   "outputs": [
    {
     "data": {
      "text/plain": [
       "np.int64(0)"
      ]
     },
     "execution_count": 8,
     "metadata": {},
     "output_type": "execute_result"
    }
   ],
   "source": [
    "valoresNulos = listings1.isnull().sum().sum()\n",
    "valoresNulos"
   ]
  },
  {
   "cell_type": "code",
   "execution_count": 9,
   "metadata": {},
   "outputs": [],
   "source": [
    "listings1.to_csv(\"listings_sinNulos.csv\")"
   ]
  }
 ],
 "metadata": {
  "kernelspec": {
   "display_name": "Python 3",
   "language": "python",
   "name": "python3"
  },
  "language_info": {
   "codemirror_mode": {
    "name": "ipython",
    "version": 3
   },
   "file_extension": ".py",
   "mimetype": "text/x-python",
   "name": "python",
   "nbconvert_exporter": "python",
   "pygments_lexer": "ipython3",
   "version": "3.13.2"
  }
 },
 "nbformat": 4,
 "nbformat_minor": 2
}
